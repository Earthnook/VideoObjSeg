{
 "cells": [
  {
   "cell_type": "markdown",
   "metadata": {},
   "source": [
    "# Evaluate the performance of a trained model"
   ]
  },
  {
   "cell_type": "code",
   "execution_count": null,
   "metadata": {},
   "outputs": [],
   "source": [
    "%matplotlib inline\n",
    "import matplotlib.pyplot as plt\n",
    "import numpy as np\n",
    "import os\n",
    "import torch\n",
    "from torch.utils.data import DataLoader\n",
    "from torch.nn import DataParallel\n",
    "\n",
    "from vos.models.STM import STM\n",
    "from vos.algo.stm_train import STMAlgo\n",
    "from vos.datasets.DAVIS import DAVIS_2017_TrainVal\n",
    "from vos.utils.helpers import stack_images, stack_masks"
   ]
  },
  {
   "cell_type": "code",
   "execution_count": null,
   "metadata": {},
   "outputs": [],
   "source": [
    "davisroot = \"/p300/videoObjSeg_dataset/DAVIS-2017-trainval-480p\"\n",
    "videod = DAVIS_2017_TrainVal(davisroot, mode= \"val\")\n",
    "dataloader = DataLoader(videod)"
   ]
  },
  {
   "cell_type": "code",
   "execution_count": null,
   "metadata": {},
   "outputs": [],
   "source": [
    "statedict_root = \"/p300/VideoObjSeg_data/local/video_segmentation/20200311/affine0.0-10.0-0.05-0.0/img_res-384,384/NNSTM/big_objects-True3/b_size-1/run_0\"\n",
    "state_dict = torch.load(os.path.join(statedict_root, \"params.pkl\"))\n",
    "model_state_dict = state_dict['model_state_dict']"
   ]
  },
  {
   "cell_type": "code",
   "execution_count": null,
   "metadata": {},
   "outputs": [],
   "source": [
    "model = DataParallel(STM())\n",
    "model.load_state_dict(model_state_dict)\n",
    "model.eval()"
   ]
  },
  {
   "cell_type": "code",
   "execution_count": null,
   "metadata": {},
   "outputs": [],
   "source": [
    "algo = STMAlgo(\n",
    "    eval_step_kwargs= dict(Mem_every= 5),\n",
    ")\n",
    "algo.initialize(model)"
   ]
  },
  {
   "cell_type": "markdown",
   "metadata": {},
   "source": [
    "## Start evaluating and calculating the mean loss and performance"
   ]
  },
  {
   "cell_type": "code",
   "execution_count": null,
   "metadata": {},
   "outputs": [],
   "source": [
    "loss, IoU = 0.,0.\n",
    "for i, data in enumerate(dataloader):\n",
    "    print(f\"Evaluating at itereation: {i}, loss: {loss/(i+1)}, IoU: {IoU/(i+1)}\", end= \"\\r\")\n",
    "    eval_info, extra_info = algo.eval(i, data)\n",
    "    loss += eval_info[\"loss\"]\n",
    "    IoU += eval_info[\"IoU\"]"
   ]
  }
 ],
 "metadata": {
  "kernelspec": {
   "display_name": "VOS",
   "language": "python",
   "name": "vos"
  },
  "language_info": {
   "codemirror_mode": {
    "name": "ipython",
    "version": 3
   },
   "file_extension": ".py",
   "mimetype": "text/x-python",
   "name": "python",
   "nbconvert_exporter": "python",
   "pygments_lexer": "ipython3",
   "version": "3.6.10"
  }
 },
 "nbformat": 4,
 "nbformat_minor": 4
}
