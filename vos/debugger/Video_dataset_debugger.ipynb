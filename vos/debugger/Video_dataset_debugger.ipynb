{
 "cells": [
  {
   "cell_type": "markdown",
   "metadata": {},
   "source": [
    "# Confirmation of DAVIS dataset\n",
    "    Just to make sure DAVIS is outputing the correct data\n",
    "   "
   ]
  },
  {
   "cell_type": "code",
   "execution_count": 1,
   "metadata": {},
   "outputs": [],
   "source": [
    "%matplotlib inline\n",
    "import matplotlib.pyplot as plt\n",
    "import numpy as np\n",
    "\n",
    "from vos.datasets.DAVIS import DAVIS_2017_TrainVal\n",
    "from vos.datasets.video_synth import VideoSynthDataset\n",
    "from vos.datasets.COCO import COCO\n",
    "\n",
    "from vos.utils.helpers import stack_images, stack_masks"
   ]
  },
  {
   "cell_type": "markdown",
   "metadata": {},
   "source": [
    "NOTE: The following two dataset, only need to run one"
   ]
  },
  {
   "cell_type": "code",
   "execution_count": 7,
   "metadata": {},
   "outputs": [
    {
     "name": "stdout",
     "output_type": "stream",
     "text": [
      "loading annotations into memory...\n",
      "Done (t=45.51s)\n",
      "creating index...\n",
      "index created!\n",
      "mask :  torch.Size([3, 9, 384, 384])\n",
      "bboxs :  (8, 4)\n",
      "n_objects :  torch.Size([])\n",
      "video :  torch.Size([3, 3, 384, 384])\n"
     ]
    }
   ],
   "source": [
    "# davisroot = \"/p300/videoObjSeg_dataset/DAVIS-2017-trainval-480p\"\n",
    "# videod = DAVIS_2017_TrainVal(davisroot, mode= \"train\")\n",
    "\n",
    "cocoroot = \"/p300/videoObjSeg_dataset/COCO-2017-train\"\n",
    "videod = VideoSynthDataset(\n",
    "    COCO(cocoroot, mode= \"train\", max_n_objects= 8),\n",
    "    n_frames= 3,\n",
    "    affine_kwargs= dict(\n",
    "        angle_max= 5.,\n",
    "        translate_max= 10.,\n",
    "        scale_max= 0.05, # NOTE: this is the exponent of e\n",
    "        shear_max= 0.\n",
    "    ),\n",
    ")\n",
    "\n",
    "d_len = len(videod)\n",
    "data = videod[np.random.choice(d_len, 1)[0]]\n",
    "for k, v in data.items():\n",
    "    print(k, \": \", v.shape)"
   ]
  },
  {
   "cell_type": "code",
   "execution_count": null,
   "metadata": {},
   "outputs": [
    {
     "name": "stdout",
     "output_type": "stream",
     "text": [
      "tensor(2) (1, 1, 1152, 3456)\n"
     ]
    }
   ],
   "source": [
    "s_images = stack_images(np.expand_dims(data[\"video\"].numpy(), axis=0))\n",
    "s_mask = stack_masks(np.expand_dims(data[\"mask\"].numpy(), axis=0)[0])\n",
    "no = data[\"n_objects\"]\n",
    "print(no, s_mask.shape)\n",
    "\n",
    "plt.imshow(s_images[0].transpose(1,2,0))\n",
    "plt.figure()\n",
    "plt.imshow(s_mask[0,0]*255)"
   ]
  },
  {
   "cell_type": "markdown",
   "metadata": {},
   "source": [
    "## Conclusion\n",
    "    - DAVIS dataset outputs proper masks whose valid information are at (0:n_objects+1) channel\n",
    "    - Vieo Synthesize Dataset wrapper has issue, need further investigation\n",
    "    \n",
    "## The following code only use videod object from previous codes."
   ]
  },
  {
   "cell_type": "code",
   "execution_count": null,
   "metadata": {},
   "outputs": [],
   "source": [
    "import torch\n",
    "d_len = len(videod)\n",
    "vdata = videod[np.random.choice(d_len, 1)[0]]\n",
    "for k, v in vdata.items():\n",
    "    print(k, \": \", v.shape)"
   ]
  },
  {
   "cell_type": "code",
   "execution_count": null,
   "metadata": {},
   "outputs": [],
   "source": [
    "# Then reproducing the video synthesize dataset getitem procedure\n",
    "i_len = len(videod.dataset)\n",
    "idata = videod.dataset[np.random.choice(i_len, 1)[0]]\n",
    "image = idata[\"image\"]\n",
    "m_image = idata[\"mask\"]\n",
    "print(\"n_objects: {}\\n\".format(idata[\"n_objects\"]))\n",
    "\n",
    "with torch.no_grad():\n",
    "    video, m_video = videod.synth_videos([image], [m_image])\n",
    "video, m_video = video[0], m_video[0]\n",
    "print(\"image shape: {}\".format(image.shape))\n",
    "print(\"m_image shape: {}\".format(m_image.shape))\n",
    "print(\"video shape: {}\".format(video.shape)) # (T, C, H, W)\n",
    "print(\"m_video shape: {}\".format(m_video.shape))"
   ]
  },
  {
   "cell_type": "code",
   "execution_count": null,
   "metadata": {},
   "outputs": [],
   "source": [
    "plt.imshow(image.numpy().transpose(1,2,0))\n",
    "plt.figure(figsize=(18,6))\n",
    "\n",
    "s_m_image = stack_masks(np.expand_dims(m_image.numpy(), axis=0))[0,0]\n",
    "plt.imshow(s_m_image)\n",
    "plt.figure(figsize=(12,6))\n",
    "\n",
    "s_video = stack_images(video.numpy())[0].transpose(1,2,0)\n",
    "plt.imshow(s_video)\n",
    "plt.figure(figsize=(18,6))\n",
    "\n",
    "s_m_video = stack_masks(m_video.numpy())[0,0]\n",
    "plt.imshow(s_m_video)"
   ]
  }
 ],
 "metadata": {
  "kernelspec": {
   "display_name": "VOS",
   "language": "python",
   "name": "vos"
  },
  "language_info": {
   "codemirror_mode": {
    "name": "ipython",
    "version": 3
   },
   "file_extension": ".py",
   "mimetype": "text/x-python",
   "name": "python",
   "nbconvert_exporter": "python",
   "pygments_lexer": "ipython3",
   "version": "3.6.10"
  }
 },
 "nbformat": 4,
 "nbformat_minor": 4
}
